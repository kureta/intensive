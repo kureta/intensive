{
 "cells": [
  {
   "cell_type": "code",
   "execution_count": 1,
   "metadata": {},
   "outputs": [],
   "source": [
    "%load_ext abjadext.ipython\n",
    "from abjad import *"
   ]
  },
  {
   "cell_type": "markdown",
   "metadata": {},
   "source": [
    "# Installing Abjad and friends"
   ]
  },
  {
   "cell_type": "markdown",
   "metadata": {},
   "source": [
    "**Note:** This tutorial assumes you are working in a _Unix-like_ environment (which, without splitting hairs, OSX and Linux are). Whenever possible, we'll provide information about how working in a Windows environment differs."
   ]
  },
  {
   "cell_type": "markdown",
   "metadata": {},
   "source": [
    "## Getting comfortable with your terminal\n",
    "\n",
    "We're going to do a lot of work in _the terminal_. Editing files, executing scripts, etc. That includes installing and working with Abjad and its dependencies.\n",
    "\n",
    "#### Hold on, what's a terminal?\n",
    "\n",
    "A _terminal_, or _terminal emulator_, gives you access to the textual or _command-line_ interface to your computer. By typing commands in text you can start and stop programs, inspect the state of your machine, move files around and so forth. The terminal is very powerful and potentially intimidating, but we won't be doing anything too complicated.\n",
    "\n",
    "#### Turning it on\n",
    "\n",
    "- OSX: Look for `Terminal.app` in `/Applications/Utilities`\n",
    "- Debian: It depends.\n",
    "- Windows: Look for `Command Prompt`\n",
    "\n",
    "#### Useful commands (Bash)\n",
    "\n",
    "- `cd`: change directory\n",
    "- `pwd`: print the current directory\n",
    "- `ls`: list the contents of the current directory\n",
    "- `echo`: print something\n",
    "- `cat`: print the contents of a fail\n",
    "- `head`/`tail`: show the first or last few lines of a file\n",
    "- `mkdir`: make a new directory\n",
    "- `rm`: remove a file or directory\n",
    "- `which`: find the location of an _executable_\n",
    "\n",
    "Also:\n",
    "\n",
    "- tab completion\n",
    "- wildcard expansion\n",
    "- pipes and redirection\n",
    "- `..` and directory separators\n",
    "\n",
    "For example, here are some terminal commands (not counting the `!` which is special to the IPython Notebook):"
   ]
  },
  {
   "cell_type": "code",
   "execution_count": 2,
   "metadata": {},
   "outputs": [
    {
     "name": "stdout",
     "output_type": "stream",
     "text": [
      "/home/kureta/Documents/intensive/day-1\r\n"
     ]
    }
   ],
   "source": [
    "!pwd"
   ]
  },
  {
   "cell_type": "code",
   "execution_count": 3,
   "metadata": {},
   "outputs": [
    {
     "name": "stdout",
     "output_type": "stream",
     "text": [
      "total 188\r\n",
      "-rw-rw-r-- 1 kureta kureta  35303 Dec  7 14:06 1-installation.ipynb\r\n",
      "-rw-rw-r-- 1 kureta kureta 148991 Dec  7 13:45 2-leaves.ipynb\r\n",
      "-rw-rw-r-- 1 kureta kureta   1932 Dec  7 13:45 presentation.py\r\n"
     ]
    }
   ],
   "source": [
    "!ls -l"
   ]
  },
  {
   "cell_type": "markdown",
   "metadata": {},
   "source": [
    "## LilyPond: http://lilypond.org/development.html\n",
    "\n",
    "Now that we've dipped our toes into the terminal, let's start collecting the bits and pieces we need to start working with Abjad. Starting with LilyPond!\n",
    "\n",
    "#### What is it?\n",
    "\n",
    "> LilyPond is a music engraving program, devoted to producing the highest-quality sheet music possible. It brings the aesthetics of traditionally engraved music to computer printouts.\n",
    "\n",
    "> ...\n",
    "\n",
    "> LilyPond is a compiled system: it is run on a text file describing the music. The resulting output is viewed on-screen or printed. In some ways, LilyPond is more similar to a programming language than graphical score editing software.\n",
    "\n",
    "> ...\n",
    "\n",
    "> You do not write music by dragging notes from a graphical toolbar and placing them on a dynamically refreshing score; you write music by typing text. This text is interpreted (or “compiled”) by LilyPond, which produces beautifully engraved sheet music.\n",
    "\n",
    "#### What does Abjad use it for?\n",
    "\n",
    "LilyPond is Abjad's musical typesetting engine. Abjad generates LilyPond input files (`.ly`) and then runs LilyPond against those files, creating PDFs.\n",
    "\n",
    "#### How do I install it?\n",
    "\n",
    "Always, always install LilyPond from LilyPond's website: http://lilypond.org.\n",
    "\n",
    "While package managers (more on that soon) often provide versions of LilyPond, their always old. Use a recent development version instead.\n",
    "\n",
    "- Windows: Consult http://lilypond.org/windows.html for how to setup your PATH.\n",
    "- OSX: Consult http://lilypond.org/macos-x.html for how to setup your PATH.\n",
    "\n",
    "#### How do I know it works?"
   ]
  },
  {
   "cell_type": "code",
   "execution_count": 4,
   "metadata": {},
   "outputs": [
    {
     "name": "stdout",
     "output_type": "stream",
     "text": [
      "GNU LilyPond 2.19.80\r\n",
      "\r\n",
      "Copyright (c) 1996--2015 by\r\n",
      "  Han-Wen Nienhuys <hanwen@xs4all.nl>\r\n",
      "  Jan Nieuwenhuizen <janneke@gnu.org>\r\n",
      "  and others.\r\n",
      "\r\n",
      "This program is free software.  It is covered by the GNU General Public\r\n",
      "License and you are welcome to change it and/or distribute copies of it\r\n",
      "under certain conditions.  Invoke as `lilypond --warranty' for more\r\n",
      "information.\r\n",
      "\r\n"
     ]
    }
   ],
   "source": [
    "!lilypond --version"
   ]
  },
  {
   "cell_type": "markdown",
   "metadata": {},
   "source": [
    "## Python: https://python.org\n",
    "\n",
    "#### What is it?\n",
    "\n",
    "From Wikipedia:\n",
    "\n",
    "> Python is a widely used high-level, general-purpose, interpreted, dynamic programming language.[24][25] Its design philosophy emphasizes code readability, and its syntax allows programmers to express concepts in fewer lines of code than possible in languages such as C++ or Java.[26][27] The language provides constructs intended to enable clear programs on both a small and large scale.[28]\n",
    "\n",
    "> Python supports multiple programming paradigms, including object-oriented, imperative and functional programming or procedural styles. It features a dynamic type system and automatic memory management and has a large and comprehensive standard library.[29]\n",
    "\n",
    "> Python interpreters are available for many operating systems, allowing Python code to run on a wide variety of systems. Using third-party tools, such as Py2exe or Pyinstaller,[30] Python code can be packaged into stand-alone executable programs for some of the most popular operating systems, so Python-based software can be distributed to, and used on, those environments with no need to install a Python interpreter.\n",
    "\n",
    "> CPython, the reference implementation of Python, is free and open-source software and has a community-based development model, as do nearly all of its variant implementations. CPython is managed by the non-profit Python Software Foundation.\n",
    "\n",
    "#### How do I install it?\n",
    "\n",
    "If you're on OSX or a \\*nix system like Debian, Arch, Ubuntu etc. then you almost certainly have some version of Python installed. Abjad works with both Python 2.7 and 3.3+, but for the sake of modernity, let's try to work in Python 3.5.\n",
    "\n",
    "- On \\*nix, use your package manager (`apt`, `yum`) to get the newest Python version.\n",
    "- To upgrade Python on OSX, visit https://www.python.org/downloads/.\n",
    "- Because Windows doesn't ship with Python installed, also visit https://www.python.org/downloads/, download the newest Python 3.5.x version and install it.\n",
    "\n",
    "Installing a new version of Python won't erase your old versions, so no harm done.\n",
    "\n",
    "#### What does Abjad use it for?\n",
    "\n",
    "Abjad is _written in_ Python!\n",
    "\n",
    "We chose Python for many of the reasons listed in the description above. It has a clean, simple syntax that (generally) encourages clearly-written code. It works on all modern operating systems. It's used extensively by many different people and organizations all over the world (scientific computing, financial computing, systems operations) which in turn means that it has a huge ecosystem of libraries we can tap into, and tens of thousands of programmers and users looking into its every aspect. And because Python is _interpreted_ and not _compiled_, the cycle of development - writing code, trying it out, revising - is fast.\n",
    "\n",
    "#### How do I know it works?"
   ]
  },
  {
   "cell_type": "code",
   "execution_count": 5,
   "metadata": {},
   "outputs": [
    {
     "name": "stdout",
     "output_type": "stream",
     "text": [
      "Python 3.6.3\r\n"
     ]
    }
   ],
   "source": [
    "!python --version"
   ]
  },
  {
   "cell_type": "markdown",
   "metadata": {},
   "source": [
    "#### Some Python tips\n",
    "\n",
    "Running a command:\n",
    "\n",
    "     python -c \"print('i am printing this')\"\n",
    "\n",
    "Executing a file:\n",
    "\n",
    "     python my-python-file.py\n",
    " \n",
    "Executing a file but keeping the interpreter alive:\n",
    "\n",
    "     python -i my-python-file.py\n",
    "     \n",
    "Quitting the interpreter:\n",
    "\n",
    "     quit()"
   ]
  },
  {
   "cell_type": "markdown",
   "metadata": {},
   "source": [
    "## Package managers\n",
    "\n",
    "For OSX and \\*nix users, many dependencies are best installed via a _package manager_: a program that knows how to find and install other programs and whatever programs those programs depend upon.\n",
    "\n",
    "\\*nix systems come with package managers installed, like `yum` or `apt`. OSX users will have to install manually. Luckily, `HomeBrew` (http://brew.sh) is really easy to get. Just run the following command in your terminal:\n",
    "\n",
    "    ```\n",
    "    /usr/bin/ruby -e \"$(curl -fsSL https://raw.githubusercontent.com/Homebrew/install/master/install)\"\n",
    "    ```\n",
    "    \n",
    "Once HomeBrew is installed you can verify it works like this:"
   ]
  },
  {
   "cell_type": "code",
   "execution_count": 6,
   "metadata": {},
   "outputs": [
    {
     "name": "stdout",
     "output_type": "stream",
     "text": [
      "/bin/sh: 1: brew: not found\r\n"
     ]
    }
   ],
   "source": [
    "!brew --version"
   ]
  },
  {
   "cell_type": "markdown",
   "metadata": {},
   "source": [
    "## Command-line dependencies\n",
    "\n",
    "Abjad relies on a number of command-line tools and libraries to get work done. These include image-processing libraries like _ImageMagick_, image-generation libraries like _Graphviz_ and _LilyPond_, and typesetting tools like _LaTeX_."
   ]
  },
  {
   "cell_type": "markdown",
   "metadata": {},
   "source": [
    "### Git: https://git-scm.com/\n",
    "\n",
    "#### What is it?\n",
    "\n",
    "> _Git is a free and open source distributed version control system designed to handle     everything from small to very large projects with speed and efficiency._\n",
    "\n",
    "#### What does Abjad use it for?\n",
    "\n",
    "Abjad uses git as its source control.\n",
    "\n",
    "#### How do I install it?\n",
    "\n",
    "If you're on OSX, there's a good chance your machine already has Git installed. Likewise under \\*nix.\n",
    "\n",
    "- OSX: `brew install git`\n",
    "- Debian: `apt-get install git`\n",
    "- Windows: visit https://git-scm.com/download/win and download the appropriate installer.\n",
    "\n",
    "#### How do I know it works?"
   ]
  },
  {
   "cell_type": "code",
   "execution_count": 7,
   "metadata": {},
   "outputs": [
    {
     "name": "stdout",
     "output_type": "stream",
     "text": [
      "git version 2.7.4\r\n"
     ]
    }
   ],
   "source": [
    "!git --version"
   ]
  },
  {
   "cell_type": "markdown",
   "metadata": {},
   "source": [
    "### ImageMagick: http://www.imagemagick.org/script/index.php\n",
    "\n",
    "#### What is it?\n",
    "\n",
    "> ImageMagick® is a software suite to create, edit, compose, or convert bitmap images. It can read and write images in a variety of formats (over 200) including PNG, JPEG, JPEG-2000, GIF, TIFF, DPX, EXR, WebP, Postscript, PDF, and SVG. Use ImageMagick to resize, flip, mirror, rotate, distort, shear and transform images, adjust image colors, apply various special effects, or draw text, lines, polygons, ellipses and Bézier curves.\n",
    "\n",
    "> The functionality of ImageMagick is typically utilized from the command-line or you can use the features from programs written in your favorite language.\n",
    "\n",
    "#### What does Abjad use it for?\n",
    "\n",
    "Abjad uses ImageMagick's `convert` tool to crop images when building its documentation, and when inserting images into IPython notebooks like this one.\n",
    "\n",
    "#### How do I install it?\n",
    "\n",
    "- OSX: `brew install imagemagick`\n",
    "- Debian: `apt-get install imagemagick`\n",
    "- Windows: Visit http://www.imagemagick.org/script/binary-releases.php#windows and download the appropriate installer.\n",
    "\n",
    "#### How do I know it works?"
   ]
  },
  {
   "cell_type": "code",
   "execution_count": 8,
   "metadata": {},
   "outputs": [
    {
     "name": "stdout",
     "output_type": "stream",
     "text": [
      "Version: ImageMagick 6.8.9-9 Q16 x86_64 2017-07-31 http://www.imagemagick.org\r\n",
      "Copyright: Copyright (C) 1999-2014 ImageMagick Studio LLC\r\n",
      "Features: DPC Modules OpenMP\r\n",
      "Delegates: bzlib cairo djvu fftw fontconfig freetype jbig jng jpeg lcms lqr ltdl lzma openexr pangocairo png rsvg tiff wmf x xml zlib\r\n",
      "\r\n"
     ]
    }
   ],
   "source": [
    "!convert --version"
   ]
  },
  {
   "cell_type": "markdown",
   "metadata": {},
   "source": [
    "### TiMIDIty: http://timidity.sourceforge.net/\n",
    "\n",
    "#### What is it?\n",
    "\n",
    "> TiMidity++ is a software synthesizer. It can play MIDI files by converting them into PCM waveform data; give it a MIDI data along with digital instrument data files, then it synthesizes them in real-time, and plays. It can not only play sounds, but also can save the generated waveforms into hard disks as various audio file formats.\n",
    "\n",
    "#### What does Abjad use it for?\n",
    "\n",
    "Abjad uses `timidity` to convert MIDI files into audio for embedding in IPython notebooks.\n",
    "\n",
    "For example, we can create a staff in Abjad and call the function `play()` on it to create some audio:"
   ]
  },
  {
   "cell_type": "code",
   "execution_count": 9,
   "metadata": {},
   "outputs": [
    {
     "data": {
      "text/html": [
       "<audio controls type=\"audio/ogg\" src=\"data:audio/ogg;base64,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\">"
      ]
     },
     "metadata": {},
     "output_type": "display_data"
    }
   ],
   "source": [
    "staff = Staff(r\"c'4 \\times 2/3 { d'8 e'8 f'8 } g'4\")\n",
    "play(staff)"
   ]
  },
  {
   "cell_type": "markdown",
   "metadata": {},
   "source": [
    "#### How do I install it?\n",
    "\n",
    "- OSX: `brew install timidity`\n",
    "- Debian: `apt-get install timidity`\n",
    "\n",
    "#### How do I know it works?"
   ]
  },
  {
   "cell_type": "code",
   "execution_count": 10,
   "metadata": {},
   "outputs": [
    {
     "name": "stdout",
     "output_type": "stream",
     "text": [
      "TiMidity++ version 2.13.2\r\n",
      "\r\n",
      "Copyright (C) 1999-2004 Masanao Izumo <iz@onicos.co.jp>\r\n",
      "Copyright (C) 1995 Tuukka Toivonen <tt@cgs.fi>\r\n",
      "\r\n",
      "This program is distributed in the hope that it will be useful,\r\n",
      "but WITHOUT ANY WARRANTY; without even the implied warranty of\r\n",
      "MERCHANTABILITY or FITNESS FOR A PARTICULAR PURPOSE.  See the\r\n",
      "GNU General Public License for more details.\r\n"
     ]
    }
   ],
   "source": [
    "!timidity --version"
   ]
  },
  {
   "cell_type": "markdown",
   "metadata": {},
   "source": [
    "### Graphviz: http://graphviz.org/\n",
    "\n",
    "#### What is it?\n",
    "\n",
    "> Graphviz is open source graph visualization software. Graph visualization is a way of representing structural information as diagrams of abstract graphs and networks. It has important applications in networking, bioinformatics,  software engineering, database and web design, machine learning, and in visual interfaces for other technical domains.\n",
    "\n",
    "#### What does Abjad use it for?\n",
    "\n",
    "Abjad uses Graphviz's `dot` tool for creating inheritance graphs in its documentation, and to graph various kinds of musical score structures."
   ]
  },
  {
   "cell_type": "code",
   "execution_count": 11,
   "metadata": {},
   "outputs": [
    {
     "data": {
      "image/png": "[encoded data removed]"
     },
     "metadata": {},
     "output_type": "display_data"
    }
   ],
   "source": [
    "staff = Staff(r\"c'4 \\times 2/3 { d'8 e'8 f'8 } g'4\")\n",
    "graph(staff)"
   ]
  },
  {
   "cell_type": "markdown",
   "metadata": {},
   "source": [
    "#### How do I install it?\n",
    "\n",
    "- OSX: `brew install graphviz`\n",
    "- Debian: `apt-get install graphviz`\n",
    "\n",
    "#### How do I know it works?"
   ]
  },
  {
   "cell_type": "code",
   "execution_count": 12,
   "metadata": {},
   "outputs": [
    {
     "name": "stdout",
     "output_type": "stream",
     "text": [
      "dot - graphviz version 2.38.0 (20140413.2041)\r\n"
     ]
    }
   ],
   "source": [
    "!dot -V"
   ]
  },
  {
   "cell_type": "markdown",
   "metadata": {},
   "source": [
    "### LaTeX / TeX Live: https://www.tug.org/texlive/ (optional)\n",
    "\n",
    "#### What is it?\n",
    "\n",
    "TeX:\n",
    "\n",
    "> TeX is a typesetting language. Instead of visually formatting your text, you enter your manuscript text intertwined with TeX commands in a plain text file. You then run TeX to produce formatted output, such as a PDF file. Thus, in contrast to standard word processors, your document is a separate file that does not pretend to be a representation of the final typeset output, and so can be easily edited and manipulated.\n",
    "\n",
    "TeX Live:\n",
    "\n",
    "> TeX Live is an easy way to get up and running with the TeX document production system. It provides a comprehensive TeX system with binaries for most flavors of Unix, including GNU/Linux, and also Windows. It includes all the major TeX-related programs, macro packages, and fonts that are free software, including support for many languages around the world.\n",
    "\n",
    "#### What does Abjad use it for?\n",
    "\n",
    "Abjad's `abjad-book` tool pre-processes LaTeX files, allowing you to embed notation as well as arbitrary interpreted Python code alongside professionally-typeset text.\n",
    "\n",
    "We often use LaTeX when creating the front and back covers as well as performance notes to scores generated with Abjad.\n",
    "\n",
    "#### How do I install it?\n",
    "\n",
    "- OSX: https://tug.org/mactex/\n",
    "- Debian: `apt-get install texlive-full`\n",
    "\n",
    "#### How do I know it works?"
   ]
  },
  {
   "cell_type": "code",
   "execution_count": 13,
   "metadata": {},
   "outputs": [
    {
     "name": "stdout",
     "output_type": "stream",
     "text": [
      "XeTeX 3.14159265-2.6-0.99992 (TeX Live 2015/Debian)\r\n",
      "kpathsea version 6.2.1\r\n",
      "Copyright 2015 SIL International, Jonathan Kew and Khaled Hosny.\r\n",
      "There is NO warranty.  Redistribution of this software is\r\n",
      "covered by the terms of both the XeTeX copyright and\r\n",
      "the Lesser GNU General Public License.\r\n",
      "For more information about these matters, see the file\r\n",
      "named COPYING and the XeTeX source.\r\n",
      "Primary author of XeTeX: Jonathan Kew.\r\n",
      "Compiled with ICU version 55.1; using 55.1\r\n",
      "Compiled with zlib version 1.2.8; using 1.2.8\r\n",
      "Compiled with FreeType2 version 2.5.5; using 2.5.5\r\n",
      "Compiled with Graphite2 version 1.3.6; using 1.3.10\r\n",
      "Compiled with HarfBuzz version 1.0.1; using 1.0.1\r\n",
      "Compiled with libpng version 1.6.17; using 1.6.17\r\n",
      "Compiled with poppler version 0.41.0\r\n",
      "Compiled with fontconfig version 2.11.1; using 2.11.94\r\n"
     ]
    }
   ],
   "source": [
    "!xetex --version"
   ]
  },
  {
   "cell_type": "markdown",
   "metadata": {},
   "source": [
    "## Choose a text editor\n",
    "\n",
    "To work with Abjad, LilyPond and LaTeX, you're going to need a text editor. Most people new to working at the command-line will want to use a _graphical text editor_. Obviously there are text editors available from _within_ the command-line, but they often have a steep learning curve. Go with what's comfortable for you.\n",
    "\n",
    "#### Command-line text editors\n",
    "\n",
    "- nano (easy mode)\n",
    "- vim (hard mode)\n",
    "\n",
    "#### Graphical text editors\n",
    "\n",
    "- TextMate\n",
    "- SublimeText\n",
    "- etc."
   ]
  },
  {
   "cell_type": "markdown",
   "metadata": {},
   "source": [
    "## Virtual environments (optional)\n",
    "\n",
    "Virtual environments (virtualenvs) allow you to isolate Python installations, including their installed 3rd-party libraries, from one another. We strongly recommend working in a virtual environment, as it will prevent you from installing packages globally which can have unintended or undesirable consequences.\n",
    "\n",
    "This lets you work with different versions of Python, different versions of Abjad, whatever you like. In any case, it's cleaner!\n",
    "\n",
    "- `sudo pip install virtualenvwrapper`\n",
    "- `pip install virtualenvwrapper-win` (on Windows)\n",
    "\n",
    "Once you have the appropriate package installed:\n",
    "\n",
    "- `mkvirtualenv myvirtualenv` will create and activate the `myvirtualenv` environment.\n",
    "- `workon` will list virtualenvs.\n",
    "- `workon myvirtualenv` will activate `myvirtualenv`.\n",
    "- `deactivate` will exit the current virtual environment."
   ]
  },
  {
   "cell_type": "markdown",
   "metadata": {},
   "source": [
    "## Install Abjad\n",
    "\n",
    "Now that all of the dependencies are installed, let's get Abjad.\n",
    "\n",
    "#### Installing Abjad from source\n",
    "\n",
    "To install from `source`, you need to `clone` Abjad from its _repository_ on GitHub, navigate into the resulting folder and then run Python's `pip` command to install it:\n",
    "\n",
    "    git clone https://github.com/Abjad/abjad.git\n",
    "    cd abjad\n",
    "    pip install -e .[development,ipython]\n",
    "\n",
    "\n",
    "#### Installing Abjad from PyPI\n",
    "\n",
    "Alternatively, you can install the latest published version from the Python Package Index:\n",
    "\n",
    "    pip install abjad[development,ipython]\n",
    "    \n",
    "Installing Abjad this way will make it hard to inspect the source code of the project, so for our purposes we'll install from source instead."
   ]
  },
  {
   "cell_type": "markdown",
   "metadata": {},
   "source": [
    "## Hello world!\n",
    "\n",
    "Now that Abjad is installed, let's verify that it's working as expected.\n",
    "\n",
    "Start by launching your Python interpreter:\n",
    "\n",
    "    python\n",
    "    \n",
    "Once the interpreter is active, run the following lines, one by one:\n",
    "\n",
    "    from abjad import *\n",
    "    note = Note()\n",
    "    show(note)\n",
    "\n",
    "After running the last line, a PDF should appear!\n",
    "\n",
    "If that worked, go ahead and quit Python:\n",
    "\n",
    "    exit()"
   ]
  },
  {
   "cell_type": "markdown",
   "metadata": {},
   "source": [
    "## That's it!\n",
    "\n",
    "If you want to keep digging in to more advanced topics (which we'll get to later in the course as well), keep reading."
   ]
  },
  {
   "cell_type": "markdown",
   "metadata": {},
   "source": [
    "## Checking for Abjad's command-line tools\n",
    "\n",
    "Abjad comes with its own tools for use on the command-line outside of Python. Let's check that they're available:"
   ]
  },
  {
   "cell_type": "code",
   "execution_count": 14,
   "metadata": {},
   "outputs": [
    {
     "name": "stdout",
     "output_type": "stream",
     "text": [
      "usage: abj-dev [-h] [--version]\r\n",
      "               {help,list,api,book,builds,check-class-sections,clean,doctest,material,replace,score,segment,stats}\r\n",
      "               ...\r\n",
      "\r\n",
      "Entry-point to Abjad developer scripts catalog.\r\n",
      "\r\n",
      "optional arguments:\r\n",
      "  -h, --help            show this help message and exit\r\n",
      "  --version             show program's version number and exit\r\n",
      "\r\n",
      "subcommands:\r\n",
      "  {help,list,api,book,builds,check-class-sections,clean,doctest,material,replace,score,segment,stats}\r\n",
      "    help                print subcommand help\r\n",
      "    list                list subcommands\r\n",
      "    api                 Build the Abjad APIs.\r\n",
      "    book                Preprocess LaTeX files with Abjad.\r\n",
      "    builds              Manage score package build targets.\r\n",
      "    check-class-sections\r\n",
      "                        Check the order and contents of class sections in a\r\n",
      "                        path or file.\r\n",
      "    clean               Clean *.pyc, *.swp, .cache, __pycache__ and tmp* files\r\n",
      "                        and folders from PATH.\r\n",
      "    doctest             Run doctests on all modules in current path.\r\n",
      "    material            Manage score package materials.\r\n",
      "    replace             Replace text.\r\n",
      "    score               Manage score packages.\r\n",
      "    segment             Manage score package segments.\r\n",
      "    stats               Build statistics about Python modules in PATH.\r\n"
     ]
    }
   ],
   "source": [
    "!ajv --help"
   ]
  },
  {
   "cell_type": "markdown",
   "metadata": {},
   "source": [
    "## Running Abjad's test suite\n",
    "\n",
    "To run Abjad's test suite, navigate into wherever you installed Abjad, then run `py.test` and/or `ajv doctest`:\n",
    "\n",
    "    cd ~/Abjad/abjad\n",
    "    py.test -rf\n",
    "    ajv doctest"
   ]
  },
  {
   "cell_type": "markdown",
   "metadata": {
    "collapsed": true
   },
   "source": [
    "## Building Abjad's documentation\n",
    "\n",
    "To build Abjad's documentation, run the following command:\n",
    "\n",
    "    ajv api -M\n",
    "    \n",
    "This will take a long time (~1 hour), so only if you really want to.\n",
    "\n",
    "You can see what the documentation looks like here: http://abjad.mbrsi.org/"
   ]
  },
  {
   "cell_type": "code",
   "execution_count": null,
   "metadata": {},
   "outputs": [],
   "source": []
  }
 ],
 "metadata": {
  "kernelspec": {
   "display_name": "Python 3",
   "language": "python",
   "name": "python3"
  },
  "language_info": {
   "codemirror_mode": {
    "name": "ipython",
    "version": 3
   },
   "file_extension": ".py",
   "mimetype": "text/x-python",
   "name": "python",
   "nbconvert_exporter": "python",
   "pygments_lexer": "ipython3",
   "version": "3.6.3"
  }
 },
 "nbformat": 4,
 "nbformat_minor": 1
}
