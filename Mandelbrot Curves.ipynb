{
 "cells": [
  {
   "cell_type": "code",
   "execution_count": null,
   "metadata": {},
   "outputs": [],
   "source": [
    "%matplotlib inline\n",
    "from matplotlib import pyplot as plt\n",
    "\n",
    "%load_ext abjadext.ipython\n",
    "from abjad import *\n",
    "\n",
    "import numpy as np\n",
    "\n",
    "from functools import partial, reduce\n",
    "from itertools import accumulate\n",
    "from fractions import Fraction\n",
    "from random import shuffle, random, randint"
   ]
  },
  {
   "cell_type": "code",
   "execution_count": null,
   "metadata": {},
   "outputs": [],
   "source": [
    "def normalize(xs, a=0.0, b=1.0):\n",
    "    return (b - a) * (xs - np.min(xs)) / (np.max(xs) - np.min(xs)) + a\n",
    "\n",
    "def compose(*functions):\n",
    "    return reduce(lambda g, f: lambda x: f(g(x)), functions, lambda x: x)"
   ]
  },
  {
   "cell_type": "code",
   "execution_count": null,
   "metadata": {},
   "outputs": [],
   "source": [
    "def fract(_xs, basis=None):\n",
    "    if basis is None:\n",
    "        basis = _xs\n",
    "    new_xs = [normalize(_xs, basis[0], basis[1])[0]]\n",
    "    \n",
    "    for xi, xii in zip (basis[:-1], basis[1:]):\n",
    "        new_xs += list(normalize(_xs, xi, xii))[1:]\n",
    "      \n",
    "    return new_xs"
   ]
  },
  {
   "cell_type": "code",
   "execution_count": null,
   "metadata": {},
   "outputs": [],
   "source": [
    "# xs = [0., 0.33, .75, 1.]\n",
    "# ys = [-1., .75, -.33, 1.]\n",
    "xs = [0., 3/12, 7/12, 1.]\n",
    "ys = [-1., 3/12, -5/12, 1.]"
   ]
  },
  {
   "cell_type": "code",
   "execution_count": null,
   "metadata": {},
   "outputs": [],
   "source": [
    "xs = list(accumulate([random() for _ in range(4)]))\n",
    "ys = [randint(-6, 6) for _ in range(4)]"
   ]
  },
  {
   "cell_type": "code",
   "execution_count": null,
   "metadata": {},
   "outputs": [],
   "source": [
    "plt.figure(figsize=(14,6))\n",
    "plt.plot(xs, ys)\n",
    "plt.show()"
   ]
  },
  {
   "cell_type": "code",
   "execution_count": null,
   "metadata": {},
   "outputs": [],
   "source": [
    "mxs, mys = fract(xs), fract(ys)\n",
    "# mxs, mys = fract(mxs), fract(mys)\n",
    "# mxs, mys = fract(mxs), fract(mys)"
   ]
  },
  {
   "cell_type": "code",
   "execution_count": null,
   "metadata": {},
   "outputs": [],
   "source": [
    "plt.figure(figsize=(14,6))\n",
    "plt.plot(mxs, mys)\n",
    "plt.show()"
   ]
  },
  {
   "cell_type": "code",
   "execution_count": null,
   "metadata": {},
   "outputs": [],
   "source": [
    "plt.figure(figsize=(14,6))\n",
    "plt.plot(fract(mxs, xs), fract(mys, ys))\n",
    "plt.show()"
   ]
  },
  {
   "cell_type": "code",
   "execution_count": null,
   "metadata": {},
   "outputs": [],
   "source": [
    "pitches = normalize(ys, -6., 6.)\n",
    "durations = list(normalize(np.diff(xs), 0., 3.))  + [1.]\n",
    "notes = [Note(pitch, Duration((2 ** round(duration), 32))) for (pitch, duration) in zip(pitches, durations)]\n",
    "\n",
    "notes += [Rest((1, 4))]\n",
    "\n",
    "pitches = normalize(mys, -12., 12.)\n",
    "durations = list(normalize(np.diff(mxs), 0., 3.)) + [1.]\n",
    "notes += [Note(pitch, Duration((2 ** round(duration), 32))) for (pitch, duration) in zip(pitches, durations)]\n",
    "\n",
    "notes += [Rest((1, 4))]\n",
    "\n",
    "pitches = normalize(fract(mys, ys), -18., 18.)\n",
    "durations = list(normalize(np.diff(fract(mxs, xs)), 0., 3.)) + [1.]\n",
    "notes += [Note(pitch, Duration((2 ** round(duration), 32))) for (pitch, duration) in zip(pitches, durations)]\n",
    "\n",
    "staff_1 = Staff(notes)\n",
    "# staff_2 = Staff(notes[:len(notes)//2])\n",
    "\n",
    "#staff_group = StaffGroup([staff_1, staff_2])\n",
    "#leaf = inspect(staff_2).get_leaf(0)\n",
    "#attach(Clef('bass'), leaf)\n",
    "show(staff_1)"
   ]
  },
  {
   "cell_type": "code",
   "execution_count": null,
   "metadata": {
    "scrolled": true
   },
   "outputs": [],
   "source": [
    "play(staff_1)"
   ]
  },
  {
   "cell_type": "code",
   "execution_count": null,
   "metadata": {},
   "outputs": [],
   "source": []
  }
 ],
 "metadata": {
  "kernelspec": {
   "display_name": "Python 3",
   "language": "python",
   "name": "python3"
  },
  "language_info": {
   "codemirror_mode": {
    "name": "ipython",
    "version": 3
   },
   "file_extension": ".py",
   "mimetype": "text/x-python",
   "name": "python",
   "nbconvert_exporter": "python",
   "pygments_lexer": "ipython3",
   "version": "3.6.3"
  }
 },
 "nbformat": 4,
 "nbformat_minor": 2
}
