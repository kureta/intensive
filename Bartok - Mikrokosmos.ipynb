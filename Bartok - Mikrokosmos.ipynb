{
 "cells": [
  {
   "cell_type": "markdown",
   "metadata": {},
   "source": [
    "## Preamble"
   ]
  },
  {
   "cell_type": "markdown",
   "metadata": {},
   "source": [
    "This was taken and slightly adapted from the example section of the abjad documentation. I am not the author of the content (only the porting to noteook format). I have removed all diacritics for now."
   ]
  },
  {
   "cell_type": "code",
   "execution_count": 1,
   "metadata": {},
   "outputs": [],
   "source": [
    "import abjad\n",
    "%load_ext abjadext.ipython"
   ]
  },
  {
   "cell_type": "markdown",
   "metadata": {},
   "source": [
    "# Bartok - Mikrokosmos"
   ]
  },
  {
   "cell_type": "markdown",
   "metadata": {},
   "source": [
    "We’ll construct the fragment top-down from containers to notes. We could have done it the other way around but it will be easier to keep the big picture in mind this way. Later, you can rebuild the example bottom-up as an exercise.\n",
    "\n",
    "First let’s create an empty score with a pair of staves connected by a brace:"
   ]
  },
  {
   "cell_type": "markdown",
   "metadata": {},
   "source": [
    "## The score"
   ]
  },
  {
   "cell_type": "markdown",
   "metadata": {},
   "source": [
    "We’ll construct the fragment top-down from containers to notes. We could have done it the other way around but it will be easier to keep the big picture in mind this way. Later, you can rebuild the example bottom-up as an exercise.\n",
    "\n",
    "First let’s create an empty score with a pair of staves connected by a brace:"
   ]
  },
  {
   "cell_type": "code",
   "execution_count": 8,
   "metadata": {},
   "outputs": [],
   "source": [
    "score = abjad.Score()\n",
    "piano_staff = abjad.StaffGroup([], context_name='PianoStaff')\n",
    "upper_staff = abjad.Staff()\n",
    "lower_staff = abjad.Staff()"
   ]
  },
  {
   "cell_type": "code",
   "execution_count": 9,
   "metadata": {},
   "outputs": [],
   "source": [
    "piano_staff.append(upper_staff)\n",
    "piano_staff.append(lower_staff)\n",
    "score.append(piano_staff)"
   ]
  },
  {
   "cell_type": "markdown",
   "metadata": {},
   "source": [
    "## The measures"
   ]
  },
  {
   "cell_type": "markdown",
   "metadata": {},
   "source": [
    "Now let’s add some empty measures:"
   ]
  },
  {
   "cell_type": "code",
   "execution_count": 10,
   "metadata": {},
   "outputs": [],
   "source": [
    "upper_measures = []\n",
    "upper_measures.append(abjad.Measure((2, 4), []))\n",
    "upper_measures.append(abjad.Measure((3, 4), []))\n",
    "upper_measures.append(abjad.Measure((2, 4), []))\n",
    "upper_measures.append(abjad.Measure((2, 4), []))\n",
    "upper_measures.append(abjad.Measure((2, 4), []))"
   ]
  },
  {
   "cell_type": "code",
   "execution_count": 11,
   "metadata": {},
   "outputs": [],
   "source": [
    "import copy\n",
    "lower_measures = copy.deepcopy(upper_measures)"
   ]
  },
  {
   "cell_type": "code",
   "execution_count": 12,
   "metadata": {},
   "outputs": [],
   "source": [
    "upper_staff.extend(upper_measures)\n",
    "lower_staff.extend(lower_measures)"
   ]
  },
  {
   "cell_type": "markdown",
   "metadata": {},
   "source": [
    "## The notes"
   ]
  },
  {
   "cell_type": "markdown",
   "metadata": {},
   "source": [
    "Now let’s add some notes.\n",
    "\n",
    "We begin with the upper staff:"
   ]
  },
  {
   "cell_type": "code",
   "execution_count": 13,
   "metadata": {},
   "outputs": [],
   "source": [
    "upper_measures[0].extend(\"a'8 g'8 f'8 e'8\")\n",
    "upper_measures[1].extend(\"d'4 g'8 f'8 e'8 d'8\")\n",
    "upper_measures[2].extend(\"c'8 d'16 e'16 f'8 e'8\")\n",
    "upper_measures[3].append(\"d'2\")\n",
    "upper_measures[4].append(\"d'2\")"
   ]
  },
  {
   "cell_type": "markdown",
   "metadata": {},
   "source": [
    "The first three measures of the lower staff contain only one voice:"
   ]
  },
  {
   "cell_type": "code",
   "execution_count": 14,
   "metadata": {},
   "outputs": [],
   "source": [
    "lower_measures[0].extend(\"b4 d'8 c'8\")\n",
    "lower_measures[1].extend(\"b8 a8 af4 c'8 bf8\")\n",
    "lower_measures[2].extend(\"a8 g8 fs8 g16 a16\")"
   ]
  },
  {
   "cell_type": "markdown",
   "metadata": {},
   "source": [
    "The last two measures of the lower staff contain two voices each.\n",
    "\n",
    "We use LilyPond \\voiceOne and \\voiceTwo commands to set the direction of stems in different voices. And we set is_simltaneous to true for each of the last two measures:\n"
   ]
  },
  {
   "cell_type": "code",
   "execution_count": 15,
   "metadata": {},
   "outputs": [],
   "source": [
    "upper_voice = abjad.Voice(\"b2\", name='upper voice')\n",
    "command = abjad.LilyPondCommand('voiceOne')\n",
    "abjad.attach(command, upper_voice)\n",
    "lower_voice = abjad.Voice(\"b4 a4\", name='lower voice')\n",
    "command = abjad.LilyPondCommand('voiceTwo')\n",
    "abjad.attach(command, lower_voice)\n",
    "lower_measures[3].extend([upper_voice, lower_voice])\n",
    "lower_measures[3].is_simultaneous = True"
   ]
  },
  {
   "cell_type": "code",
   "execution_count": 16,
   "metadata": {},
   "outputs": [],
   "source": [
    "upper_voice = abjad.Voice(\"b2\", name='upper voice')\n",
    "command = abjad.LilyPondCommand('voiceOne')\n",
    "abjad.attach(command, upper_voice)\n",
    "lower_voice = abjad.Voice(\"g2\", name='lower voice')\n",
    "command = abjad.LilyPondCommand('voiceTwo')\n",
    "abjad.attach(command, lower_voice)\n",
    "lower_measures[4].extend([upper_voice, lower_voice])\n",
    "lower_measures[4].is_simultaneous = True"
   ]
  },
  {
   "cell_type": "markdown",
   "metadata": {},
   "source": [
    "Here’s our work so far:"
   ]
  },
  {
   "cell_type": "code",
   "execution_count": 17,
   "metadata": {},
   "outputs": [
    {
     "data": {
      "image/png": "[encoded data removed]"
     },
     "metadata": {},
     "output_type": "display_data"
    }
   ],
   "source": [
    "show(score)"
   ]
  },
  {
   "cell_type": "markdown",
   "metadata": {},
   "source": [
    "## The details"
   ]
  },
  {
   "cell_type": "markdown",
   "metadata": {},
   "source": [
    "Ok, let’s add the details. First, notice that the bottom staff has a treble clef just like the top staff. Let’s change that:"
   ]
  },
  {
   "cell_type": "code",
   "execution_count": 19,
   "metadata": {},
   "outputs": [],
   "source": [
    "leaf = abjad.inspect(lower_staff).get_leaf(0)\n",
    "abjad.attach(abjad.Clef('bass'), leaf)"
   ]
  },
  {
   "cell_type": "markdown",
   "metadata": {},
   "source": [
    "Now let’s add dynamics. For the top staff, we’ll add them to the first note of the first measure and the second note of the second measure. For the bottom staff, we’ll add dynamicings to the second note of the first measure and the fourth note of the second measure:\n"
   ]
  },
  {
   "cell_type": "code",
   "execution_count": 20,
   "metadata": {},
   "outputs": [],
   "source": [
    "abjad.attach(abjad.Dynamic('pp'), upper_measures[0][0])"
   ]
  },
  {
   "cell_type": "code",
   "execution_count": 21,
   "metadata": {},
   "outputs": [],
   "source": [
    "abjad.attach(abjad.Dynamic('mp'), upper_measures[1][1])"
   ]
  },
  {
   "cell_type": "code",
   "execution_count": 22,
   "metadata": {},
   "outputs": [],
   "source": [
    "abjad.attach(abjad.Dynamic('pp'), lower_measures[0][1])"
   ]
  },
  {
   "cell_type": "code",
   "execution_count": 23,
   "metadata": {},
   "outputs": [],
   "source": [
    "abjad.attach(abjad.Dynamic('mp'), lower_measures[1][3])"
   ]
  },
  {
   "cell_type": "markdown",
   "metadata": {},
   "source": [
    "Let’s add a double bar to the end of the piece:"
   ]
  },
  {
   "cell_type": "code",
   "execution_count": 24,
   "metadata": {},
   "outputs": [
    {
     "data": {
      "text/plain": [
       "BarLine('|.')"
      ]
     },
     "execution_count": 24,
     "metadata": {},
     "output_type": "execute_result"
    }
   ],
   "source": [
    "score.add_final_bar_line()"
   ]
  },
  {
   "cell_type": "markdown",
   "metadata": {},
   "source": [
    "And see how things are coming out:"
   ]
  },
  {
   "cell_type": "code",
   "execution_count": 25,
   "metadata": {},
   "outputs": [
    {
     "data": {
      "image/png": "[encoded data removed]"
     },
     "metadata": {},
     "output_type": "display_data"
    }
   ],
   "source": [
    "show(score)"
   ]
  },
  {
   "cell_type": "markdown",
   "metadata": {},
   "source": [
    "Notice that the beams of the eighth and sixteenth notes appear as you would usually expect: grouped by beat. We get this for free thanks to LilyPond’s default beaming algorithm. But this is not the way Bartók notated the beams. Let’s set the beams as Bartók did with some crossing the bar lines:"
   ]
  },
  {
   "cell_type": "code",
   "execution_count": 26,
   "metadata": {},
   "outputs": [],
   "source": [
    "upper_leaves = abjad.select(upper_staff).by_leaf()\n",
    "lower_leaves = abjad.select(lower_staff).by_leaf()"
   ]
  },
  {
   "cell_type": "code",
   "execution_count": 27,
   "metadata": {},
   "outputs": [],
   "source": [
    "abjad.attach(abjad.Beam(), upper_leaves[:4])"
   ]
  },
  {
   "cell_type": "code",
   "execution_count": 28,
   "metadata": {},
   "outputs": [],
   "source": [
    "abjad.attach(abjad.Beam(), lower_leaves[1:5])"
   ]
  },
  {
   "cell_type": "code",
   "execution_count": 30,
   "metadata": {},
   "outputs": [],
   "source": [
    "abjad.attach(abjad.Beam(), lower_leaves[6:10])"
   ]
  },
  {
   "cell_type": "code",
   "execution_count": 31,
   "metadata": {},
   "outputs": [
    {
     "data": {
      "image/png": "[encoded data removed]"
     },
     "metadata": {},
     "output_type": "display_data"
    }
   ],
   "source": [
    "show(score)"
   ]
  },
  {
   "cell_type": "markdown",
   "metadata": {},
   "source": [
    "Now some slurs:"
   ]
  },
  {
   "cell_type": "code",
   "execution_count": 33,
   "metadata": {},
   "outputs": [],
   "source": [
    "abjad.attach(abjad.Slur(), upper_leaves[:5])"
   ]
  },
  {
   "cell_type": "code",
   "execution_count": 34,
   "metadata": {},
   "outputs": [],
   "source": [
    "abjad.attach(abjad.Slur(), upper_leaves[5:])"
   ]
  },
  {
   "cell_type": "code",
   "execution_count": 36,
   "metadata": {},
   "outputs": [],
   "source": [
    "abjad.attach(abjad.Slur(), lower_leaves[1:6])"
   ]
  },
  {
   "cell_type": "markdown",
   "metadata": {},
   "source": [
    "Hairpins:"
   ]
  },
  {
   "cell_type": "code",
   "execution_count": 37,
   "metadata": {},
   "outputs": [],
   "source": [
    "abjad.attach(abjad.Hairpin('<'), upper_leaves[-7:-2])"
   ]
  },
  {
   "cell_type": "code",
   "execution_count": 38,
   "metadata": {},
   "outputs": [],
   "source": [
    "abjad.attach(abjad.Hairpin('>'), upper_leaves[-2:])"
   ]
  },
  {
   "cell_type": "markdown",
   "metadata": {},
   "source": [
    "A ritardando marking above the last seven notes of the upper staff:"
   ]
  },
  {
   "cell_type": "code",
   "execution_count": 39,
   "metadata": {},
   "outputs": [],
   "source": [
    "markup = abjad.Markup('ritard.')\n",
    "text_spanner = abjad.TextSpanner()\n",
    "abjad.override(text_spanner).text_spanner.bound_details__left__text = markup\n",
    "abjad.attach(text_spanner, upper_leaves[-7:])"
   ]
  },
  {
   "cell_type": "markdown",
   "metadata": {},
   "source": [
    "And ties connecting the last two notes in each staff:"
   ]
  },
  {
   "cell_type": "code",
   "execution_count": 40,
   "metadata": {},
   "outputs": [],
   "source": [
    "abjad.attach(abjad.Tie(), upper_leaves[-2:])"
   ]
  },
  {
   "cell_type": "code",
   "execution_count": 42,
   "metadata": {},
   "outputs": [],
   "source": [
    "note_1 = lower_staff[-2]['upper voice'][0]\n",
    "note_2 = lower_staff[-1]['upper voice'][0]\n",
    "notes = abjad.select([note_1, note_2])\n",
    "abjad.attach(abjad.Tie(), notes)"
   ]
  },
  {
   "cell_type": "markdown",
   "metadata": {},
   "source": [
    "The final result:"
   ]
  },
  {
   "cell_type": "code",
   "execution_count": 43,
   "metadata": {},
   "outputs": [
    {
     "data": {
      "image/png": "[encoded data removed]"
     },
     "metadata": {},
     "output_type": "display_data"
    }
   ],
   "source": [
    "show(score)"
   ]
  },
  {
   "cell_type": "code",
   "execution_count": null,
   "metadata": {},
   "outputs": [],
   "source": []
  }
 ],
 "metadata": {
  "kernelspec": {
   "display_name": "Python 3",
   "language": "python",
   "name": "python3"
  },
  "language_info": {
   "codemirror_mode": {
    "name": "ipython",
    "version": 3
   },
   "file_extension": ".py",
   "mimetype": "text/x-python",
   "name": "python",
   "nbconvert_exporter": "python",
   "pygments_lexer": "ipython3",
   "version": "3.6.3"
  }
 },
 "nbformat": 4,
 "nbformat_minor": 1
}
